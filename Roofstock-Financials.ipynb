{
 "cells": [
  {
   "cell_type": "code",
   "execution_count": null,
   "metadata": {},
   "outputs": [],
   "source": []
  },
  {
   "cell_type": "code",
   "execution_count": null,
   "metadata": {},
   "outputs": [],
   "source": []
  },
  {
   "cell_type": "markdown",
   "metadata": {},
   "source": [
    "## Initial Investment"
   ]
  },
  {
   "cell_type": "code",
   "execution_count": null,
   "metadata": {},
   "outputs": [],
   "source": []
  },
  {
   "cell_type": "code",
   "execution_count": null,
   "metadata": {},
   "outputs": [],
   "source": []
  },
  {
   "cell_type": "code",
   "execution_count": null,
   "metadata": {},
   "outputs": [],
   "source": []
  },
  {
   "cell_type": "markdown",
   "metadata": {},
   "source": [
    "## Year 1 Pro-Forma Assumptions"
   ]
  },
  {
   "cell_type": "code",
   "execution_count": null,
   "metadata": {},
   "outputs": [],
   "source": []
  },
  {
   "cell_type": "markdown",
   "metadata": {},
   "source": [
    "## Financials"
   ]
  },
  {
   "cell_type": "code",
   "execution_count": null,
   "metadata": {},
   "outputs": [],
   "source": []
  },
  {
   "cell_type": "code",
   "execution_count": 1,
   "metadata": {},
   "outputs": [],
   "source": [
    "# def net_operating_income(year, rent_growth_percentage, list_price):\n",
    "#     # Income\n",
    "#     rent_growth = rent_growth_percentage\n",
    "#     purchase_price = list_price\n",
    "    \n",
    "#     monthly_rent = purchase_price * (0.8/100)\n",
    "#     vacancy = 0.05\n",
    "#     expected_rent = (monthly_rent * (1 - vacancy)) * 12\n",
    "    \n",
    "#     income = expected_rent * (1 + rent_growth)**year\n",
    "\n",
    "#     # Expense\n",
    "#     property_management = purchase_price * 0.08\n",
    "#     insurance = (purchase_price / 1000) * 3.5\n",
    "#     property_tax = purchase_price * 0\n",
    "#     leasing_fee = purchase_price * 0\n",
    "#     hoa_fee = purchase_price * 0\n",
    "#     repair_maint = purchase_price * 0.01\n",
    "#     utilities = purchase_price * 0.01\n",
    "\n",
    "#     expense = property_management + insurance + property_tax + \\\n",
    "#         leasing_fee + hoa_fee + repair_maint + utilities\n",
    "\n",
    "#     # Capital Expenditures (Reverse)\n",
    "#     capex_r = purchase_price * 0.04\n",
    "\n",
    "#     # Net Operating Income\n",
    "#     net_operating_income = income - expense\n",
    "#     return net_operating_income"
   ]
  },
  {
   "cell_type": "code",
   "execution_count": null,
   "metadata": {},
   "outputs": [],
   "source": []
  },
  {
   "cell_type": "code",
   "execution_count": null,
   "metadata": {},
   "outputs": [],
   "source": []
  },
  {
   "cell_type": "code",
   "execution_count": null,
   "metadata": {},
   "outputs": [],
   "source": []
  },
  {
   "cell_type": "code",
   "execution_count": null,
   "metadata": {},
   "outputs": [],
   "source": []
  },
  {
   "cell_type": "code",
   "execution_count": 58,
   "metadata": {},
   "outputs": [
    {
     "name": "stdout",
     "output_type": "stream",
     "text": [
      "Enter Purchase Price:649000\n",
      "Enter Loan Interest Rate (%):6.07\n",
      "Enter Down Payment (%):40\n",
      "Enter Appreciation (%):5.02\n",
      "Enter Rent Growth (%):5\n",
      "Enter Property Management (%):2\n",
      "Enter Repair & Maint (%):0.2\n",
      "Enter Utilities (%):0.18\n",
      "Enter Capital Expenditures (%):0.2\n",
      "-------------\n",
      "Purchase Price: $649,000\n",
      "Loan Interest Rate: 6.07%\n",
      "Down Payment: 40.00%\n",
      "Appreciation: 5.02%\n",
      "-------------\n",
      "Enter year(s):5\n",
      "-------------\n",
      "Gross Yield: 9.12%\n",
      "Cap Rate: 9.24%\n",
      "Cash on Cash: 10.85%\n",
      "Annualized Return in 5 Years: 15.78%\n",
      "-------------\n",
      "Initial Investment: $280,692\n",
      "---\n",
      "Property Value: $829,096 after 5 year(s)\n",
      "-\n",
      "Loan Balance: $362,666 after 5 year(s)\n",
      "-\n",
      "Disposition Fees: $22,715\n",
      "--\n",
      "Sale Proceeds: $443,715 after 5 year(s)\n",
      "---\n",
      "Cum. Net Cashflow: $47,184.83 after 5 year(s)\n",
      "-------------\n",
      "Total Return: $191,322 after 5 year(s)\n",
      "-------------\n",
      "Net Cash Flow - Year 1: $30,443.16\n",
      "Net Cash Flow - Year 3: $38,405.90\n",
      "Net Cash Flow - Year 5: $47,184.83\n",
      "Net Cash Flow - Year 10: $73,273.26\n"
     ]
    }
   ],
   "source": [
    "def monthly_payment(purchase_price, down_payment, current_mortgage_rate, number_of_payment_per_year):\n",
    "    starting_loan_amount = purchase_price - (purchase_price * down_payment)\n",
    "    loan_interest_rate = current_mortgage_rate\n",
    "    number_of_payment_per_year = number_of_payment_per_year\n",
    "    monthly_payment = (starting_loan_amount *\n",
    "                       (loan_interest_rate / number_of_payment_per_year)) / (\n",
    "                           1 -\n",
    "                           (1 +\n",
    "                            (loan_interest_rate / number_of_payment_per_year)) **\n",
    "                           (-(loan_term * number_of_payment_per_year)))\n",
    "    return monthly_payment\n",
    "\n",
    "def net_operating_income(year, rent_growth_percentage, list_price):\n",
    "    # Income\n",
    "    rent_growth = rent_growth_percentage\n",
    "    purchase_price = list_price\n",
    "    \n",
    "    monthly_rent = purchase_price * (1/100)\n",
    "    vacancy = 0.05\n",
    "    expected_rent = (monthly_rent * (1 - vacancy)) * 12\n",
    "    \n",
    "    income = expected_rent * (1 + rent_growth)**year\n",
    "\n",
    "    # Expense\n",
    "    property_management = purchase_price * management_percent\n",
    "    insurance = (purchase_price / 1000) * 3.5\n",
    "    property_tax = purchase_price * 0\n",
    "    leasing_fee = purchase_price * 0\n",
    "    hoa_fee = purchase_price * 0\n",
    "    repair_maint = purchase_price * repair_maint_percent\n",
    "    utilities = purchase_price * utilities_percent\n",
    "\n",
    "    expense = property_management + insurance + property_tax + \\\n",
    "        leasing_fee + hoa_fee + repair_maint + utilities\n",
    "\n",
    "    # Capital Expenditures (Reverse)\n",
    "    capex_r = purchase_price * 0.04\n",
    "\n",
    "    # Net Operating Income\n",
    "    net_operating_income = income - expense\n",
    "    return net_operating_income\n",
    "\n",
    "\n",
    "\n",
    "def total_return(year):    \n",
    "    def net_operating_income(year, rent_growth_percentage, list_price):\n",
    "        # Income\n",
    "        rent_growth = rent_growth_percentage\n",
    "        purchase_price = list_price\n",
    "        \n",
    "        monthly_rent = purchase_price * (0.8/100)\n",
    "        vacancy = 0.05\n",
    "        expected_rent = (monthly_rent * (1 - vacancy)) * 12\n",
    "        income = expected_rent * (1 + rent_growth)**year\n",
    "\n",
    "        # Expense\n",
    "        property_management = purchase_price * management_percent\n",
    "        insurance = (purchase_price / 1000) * 3.5\n",
    "        property_tax = purchase_price * 0\n",
    "        leasing_fee = purchase_price * 0\n",
    "        hoa_fee = purchase_price * 0\n",
    "        repair_maint = purchase_price * repair_maint_percent\n",
    "        utilities = purchase_price * utilities_percent\n",
    "\n",
    "        expense = property_management + insurance + property_tax + \\\n",
    "            leasing_fee + hoa_fee + repair_maint + utilities\n",
    "\n",
    "        # Capital Expenditures (Reverse)\n",
    "        capex_r = purchase_price * 0.04\n",
    "\n",
    "        # Net Operating Income\n",
    "        net_operating_income = income - expense\n",
    "        return net_operating_income\n",
    "    \n",
    "    def cum_net_cash_flow(year):\n",
    "        noi = net_operating_income(year, rent_growth, purchase_price)\n",
    "        total_unlevered_cash_flow = noi - capex_r\n",
    "        total_net_cash_flow = total_unlevered_cash_flow - mortgage\n",
    "        return total_net_cash_flow\n",
    "    \n",
    "    def loan_balance(year_paid, loan_term):\n",
    "        remain_year = loan_term - year_paid\n",
    "\n",
    "        loan_balance = (monthly_payment *\n",
    "                        (1 - (1 +\n",
    "                              (loan_interest_rate / number_of_payment_per_year)) **\n",
    "                         (-(remain_year * number_of_payment_per_year)))) / (\n",
    "                             loan_interest_rate / number_of_payment_per_year)\n",
    "        return loan_balance\n",
    "    \n",
    "    # Cum Net Cash Flow\n",
    "    cum_net_cash_flow = cum_net_cash_flow(year)\n",
    "    \n",
    "    # Property Value\n",
    "    property_value = purchase_price * (1 + appreciation)**year\n",
    "    \n",
    "    # Loan Balance\n",
    "    loan_balance = loan_balance(year_paid = year, loan_term = 30)\n",
    "    \n",
    "    # Disposition Fee\n",
    "    disposition_fee = purchase_price * (3.5/100)\n",
    "    \n",
    "    # Sale Proceed\n",
    "    sale_proceed = property_value - loan_balance - disposition_fee\n",
    "    \n",
    "    # Total Return\n",
    "    total_return = sale_proceed + cum_net_cash_flow - initial_investment\n",
    "    \n",
    "    return total_return, sale_proceed, property_value, loan_balance, disposition_fee\n",
    "\n",
    "def financials(year):\n",
    "    gross_yield = (expected_rent / purchase_price) * 100\n",
    "    cap_rate = (net_operating_income_year1 / purchase_price) * 100\n",
    "    cash_on_cash = (total_net_cash_flow_year1 / initial_investment) * 100\n",
    "    \n",
    "    def total_return(year):    \n",
    "        def net_operating_income(year):\n",
    "            # Income\n",
    "            rent_growth = 0.03\n",
    "            monthly_rent = purchase_price * (0.8/100)\n",
    "            vacancy = 0.05\n",
    "            expected_rent = (monthly_rent * (1 - vacancy)) * 12\n",
    "            income = expected_rent * (1 + rent_growth)**year\n",
    "\n",
    "            # Expense\n",
    "            property_management = purchase_price * 0.08\n",
    "            insurance = (purchase_price / 1000) * 3.5\n",
    "            property_tax = purchase_price * 0\n",
    "            leasing_fee = purchase_price * 0\n",
    "            hoa_fee = purchase_price * 0\n",
    "            repair_maint = purchase_price * 0.01\n",
    "            utilities = purchase_price * 0.01\n",
    "\n",
    "            expense = property_management + insurance + property_tax + \\\n",
    "                leasing_fee + hoa_fee + repair_maint + utilities\n",
    "\n",
    "            # Capital Expenditures (Reverse)\n",
    "            capex_r = purchase_price * 0.04\n",
    "\n",
    "            # Net Operating Income\n",
    "            net_operating_income = income - expense\n",
    "            return net_operating_income\n",
    "\n",
    "        def cum_net_cash_flow(year):\n",
    "            noi = net_operating_income(year)\n",
    "            total_unlevered_cash_flow = noi - capex_r\n",
    "            total_net_cash_flow = total_unlevered_cash_flow - mortgage\n",
    "            return total_net_cash_flow\n",
    "\n",
    "        def loan_balance(year_paid, loan_term):\n",
    "            remain_year = loan_term - year_paid\n",
    "\n",
    "            loan_balance = (monthly_payment *\n",
    "                            (1 - (1 +\n",
    "                                  (loan_interest_rate / number_of_payment_per_year)) **\n",
    "                             (-(remain_year * number_of_payment_per_year)))) / (\n",
    "                                 loan_interest_rate / number_of_payment_per_year)\n",
    "            return loan_balance\n",
    "    \n",
    "        # Cum Net Cash Flow\n",
    "        cum_net_cash_flow = cum_net_cash_flow(year)\n",
    "\n",
    "        # Property Value\n",
    "        property_value = purchase_price * (1 + appreciation)**year\n",
    "\n",
    "        # Loan Balance\n",
    "        loan_balance = loan_balance(year_paid = year, loan_term = 30)\n",
    "\n",
    "        # Disposition Fee\n",
    "        disposition_fee = purchase_price * (3.5/100)\n",
    "\n",
    "        # Sale Proceed\n",
    "        sale_proceed = property_value - loan_balance - disposition_fee\n",
    "\n",
    "        # Total Return\n",
    "        total_return = sale_proceed + cum_net_cash_flow - initial_investment\n",
    "\n",
    "        return total_return\n",
    "        \n",
    "    total_return_year5 = total_return(year=5)\n",
    "    annualized_return_y5 = (((initial_investment / total_return_year5)**(1/5)) - 1) * 100\n",
    "\n",
    "    print('Gross Yield:', '{:,.2f}%'.format(gross_yield))\n",
    "    print('Cap Rate:', '{:,.2f}%'.format(cap_rate))\n",
    "    print('Cash on Cash:', '{:,.2f}%'.format(cash_on_cash))\n",
    "    print('Annualized Return in 5 Years:', '{:,.2f}%'.format(annualized_return_y5))\n",
    "\n",
    "\n",
    "\n",
    "\n",
    "# Purchase Price\n",
    "purchase_price = float(input(\"Enter Purchase Price:\"))\n",
    "\n",
    "# Mortgage\n",
    "current_mortgage_rate = float(input(\"Enter Loan Interest Rate (%):\")) / 100\n",
    "loan_interest_rate = current_mortgage_rate\n",
    "down_payment = float(input(\"Enter Down Payment (%):\")) / 100\n",
    "\n",
    "loan_term = 30 \n",
    "number_of_payment_per_year = 12\n",
    "\n",
    "# Appreciation\n",
    "appreciation = float(input(\"Enter Appreciation (%):\")) / 100\n",
    "\n",
    "# Rent Growth\n",
    "rent_growth = float(input(\"Enter Rent Growth (%):\")) / 100\n",
    "\n",
    "# Expense \n",
    "management_percent = float(input(\"Enter Property Management (%):\")) / 100\n",
    "repair_maint_percent = float(input(\"Enter Repair & Maint (%):\")) / 100\n",
    "utilities_percent = float(input(\"Enter Utilities (%):\")) / 100\n",
    "capex_percent = float(input(\"Enter Capital Expenditures (%):\")) / 100\n",
    "\n",
    "# Repair & Maint\n",
    "immediate_repair = 0.01 # <- default\n",
    "\n",
    "# Closing Cost\n",
    "closing_cost_cash = 0.015\n",
    "closing_cost_financed = 0.04\n",
    "\n",
    "\n",
    "closing_cost = 0.015\n",
    "\n",
    "\n",
    "net_operating_income_year1 = net_operating_income(year=1, rent_growth_percentage = rent_growth, list_price = purchase_price)\n",
    "\n",
    "# Capital Expenditures (Reverse)\n",
    "capex_r = purchase_price * capex_percent\n",
    "\n",
    "# Total Unlevered Cash Flow\n",
    "total_unlevered_cash_flow_year1 = net_operating_income_year1 - capex_r\n",
    "\n",
    "\n",
    "# Mortgage\n",
    "monthly_payment = monthly_payment(purchase_price, down_payment, current_mortgage_rate, number_of_payment_per_year)\n",
    "mortgage = monthly_payment * 12\n",
    "\n",
    "# Total Net Cash Flow \n",
    "total_net_cash_flow_year1 = total_unlevered_cash_flow_year1 - mortgage\n",
    "\n",
    "# Expected Rent\n",
    "monthly_rent = purchase_price * (0.8/100)\n",
    "vacancy = 0.05\n",
    "expected_rent = (monthly_rent * (1 - vacancy)) * 12\n",
    "\n",
    "\n",
    "print('-------------')\n",
    "print('Purchase Price:', '${:,.0f}'.format(purchase_price))\n",
    "print('Loan Interest Rate:', '{:,.2f}%'.format(current_mortgage_rate* 100))\n",
    "print('Down Payment:', '{:,.2f}%'.format(down_payment* 100))\n",
    "print('Appreciation:', '{:,.2f}%'.format(appreciation* 100))\n",
    "\n",
    "# Initial Investment\n",
    "immediate_repair = 0.01 # <- default\n",
    "immediate_repair_cost = purchase_price * immediate_repair\n",
    "\n",
    "loan_fee = purchase_price * (0.75/100)\n",
    "\n",
    "initial_investment = (down_payment * purchase_price) + \\\n",
    "    (closing_cost * purchase_price) + immediate_repair_cost + loan_fee\n",
    "\n",
    "print('-------------')\n",
    "# Total Return and Financials\n",
    "hist_year = float(input(\"Enter year(s):\"))\n",
    "\n",
    "print('-------------')\n",
    "financials(year = hist_year)\n",
    "\n",
    "total_return_value = total_return(year = hist_year)[0]\n",
    "sale_proceeds = total_return(year = hist_year)[1]\n",
    "property_value = total_return(year = hist_year)[2]\n",
    "loan_balance = total_return(year = hist_year)[3]\n",
    "disposition_fee = total_return(year = hist_year)[4]\n",
    "\n",
    "print('-------------')\n",
    "print('Initial Investment:', '${:,.0f}'.format(initial_investment))\n",
    "print('---')\n",
    "print('Property Value:', '${:,.0f}'.format(property_value), 'after', round(hist_year), 'year(s)')\n",
    "print('-')\n",
    "print('Loan Balance:', '${:,.0f}'.format(loan_balance), 'after', round(hist_year), 'year(s)')\n",
    "print('-')\n",
    "print('Disposition Fees:', '${:,.0f}'.format(disposition_fee))\n",
    "print('--')\n",
    "print('Sale Proceeds:', '${:,.0f}'.format(sale_proceeds), 'after', round(hist_year), 'year(s)')\n",
    "\n",
    "noi_year = net_operating_income(year=hist_year, rent_growth_percentage = rent_growth, list_price = purchase_price)\n",
    "total_unlevered_cash_flow = noi_year - capex_r\n",
    "cum_net_cf = total_unlevered_cash_flow - mortgage\n",
    "\n",
    "print('---')\n",
    "print('Cum. Net Cashflow:', '${:,.2f}'.format(cum_net_cf), 'after', round(hist_year), 'year(s)')\n",
    "\n",
    "print('-------------')\n",
    "print('Total Return:', '${:,.0f}'.format(total_return_value), 'after', round(hist_year), 'year(s)')\n",
    "\n",
    "# Net Cash Flow by Year\n",
    "noi_year1 = net_operating_income(year=1, rent_growth_percentage = rent_growth, list_price = purchase_price)\n",
    "noi_year3 = net_operating_income(year=3, rent_growth_percentage = rent_growth, list_price = purchase_price)\n",
    "noi_year5 = net_operating_income(year=5, rent_growth_percentage = rent_growth, list_price = purchase_price)\n",
    "noi_year10 = net_operating_income(year=10, rent_growth_percentage = rent_growth, list_price = purchase_price)\n",
    "\n",
    "# Total Unlevered Cash Flow\n",
    "total_unlevered_cash_flow_y1 = noi_year1 - capex_r\n",
    "total_unlevered_cash_flow_y3 = noi_year3 - capex_r\n",
    "total_unlevered_cash_flow_y5 = noi_year5 - capex_r\n",
    "total_unlevered_cash_flow_y10 = noi_year10 - capex_r\n",
    "\n",
    "# Total Net Cash Flow \n",
    "net_cf_year1 = total_unlevered_cash_flow_y1 - mortgage\n",
    "net_cf_year3 = total_unlevered_cash_flow_y3 - mortgage\n",
    "net_cf_year5 = total_unlevered_cash_flow_y5 - mortgage\n",
    "net_cf_year10 = total_unlevered_cash_flow_y10 - mortgage\n",
    "\n",
    "print('-------------')\n",
    "print('Net Cash Flow - Year 1:', '${:,.2f}'.format(net_cf_year1))\n",
    "print('Net Cash Flow - Year 3:', '${:,.2f}'.format(net_cf_year3))\n",
    "print('Net Cash Flow - Year 5:', '${:,.2f}'.format(net_cf_year5))\n",
    "print('Net Cash Flow - Year 10:', '${:,.2f}'.format(net_cf_year10))\n",
    "\n"
   ]
  },
  {
   "cell_type": "code",
   "execution_count": 48,
   "metadata": {},
   "outputs": [
    {
     "data": {
      "text/plain": [
       "0.04560708782742681"
      ]
     },
     "execution_count": 48,
     "metadata": {},
     "output_type": "execute_result"
    }
   ],
   "source": [
    "29599 / 649000"
   ]
  },
  {
   "cell_type": "code",
   "execution_count": 57,
   "metadata": {},
   "outputs": [
    {
     "data": {
      "text/plain": [
       "0.1084573381850323"
      ]
     },
     "execution_count": 57,
     "metadata": {},
     "output_type": "execute_result"
    }
   ],
   "source": [
    "total_net_cash_flow_year1 / initial_investment"
   ]
  },
  {
   "cell_type": "code",
   "execution_count": 38,
   "metadata": {},
   "outputs": [],
   "source": [
    "property_management = purchase_price * management_percent\n",
    "insurance = (purchase_price / 1000) * 3.5\n",
    "property_tax = purchase_price * 0\n",
    "leasing_fee = purchase_price * 0\n",
    "hoa_fee = purchase_price * 0\n",
    "repair_maint = purchase_price * repair_maint_percent\n",
    "utilities = purchase_price * utilities_percent\n",
    "\n",
    "expense = property_management + insurance + property_tax + \\\n",
    "    leasing_fee + hoa_fee + repair_maint + utilities"
   ]
  },
  {
   "cell_type": "code",
   "execution_count": 43,
   "metadata": {},
   "outputs": [
    {
     "data": {
      "text/plain": [
       "1298.0"
      ]
     },
     "execution_count": 43,
     "metadata": {},
     "output_type": "execute_result"
    }
   ],
   "source": [
    "repair_maint"
   ]
  },
  {
   "cell_type": "code",
   "execution_count": 53,
   "metadata": {},
   "outputs": [
    {
     "data": {
      "text/plain": [
       "59967.600000000006"
      ]
     },
     "execution_count": 53,
     "metadata": {},
     "output_type": "execute_result"
    }
   ],
   "source": [
    "noi_year1"
   ]
  },
  {
   "cell_type": "code",
   "execution_count": 21,
   "metadata": {},
   "outputs": [
    {
     "data": {
      "text/plain": [
       "19470.0"
      ]
     },
     "execution_count": 21,
     "metadata": {},
     "output_type": "execute_result"
    }
   ],
   "source": [
    "repair_maint"
   ]
  },
  {
   "cell_type": "code",
   "execution_count": 45,
   "metadata": {},
   "outputs": [
    {
     "data": {
      "text/plain": [
       "1168.2"
      ]
     },
     "execution_count": 45,
     "metadata": {},
     "output_type": "execute_result"
    }
   ],
   "source": [
    "utilities"
   ]
  },
  {
   "cell_type": "code",
   "execution_count": 46,
   "metadata": {},
   "outputs": [
    {
     "data": {
      "text/plain": [
       "12980.0"
      ]
     },
     "execution_count": 46,
     "metadata": {},
     "output_type": "execute_result"
    }
   ],
   "source": [
    "property_management"
   ]
  },
  {
   "cell_type": "code",
   "execution_count": null,
   "metadata": {},
   "outputs": [],
   "source": []
  }
 ],
 "metadata": {
  "hide_input": false,
  "kernelspec": {
   "display_name": "Python 3",
   "language": "python",
   "name": "python3"
  },
  "language_info": {
   "codemirror_mode": {
    "name": "ipython",
    "version": 3
   },
   "file_extension": ".py",
   "mimetype": "text/x-python",
   "name": "python",
   "nbconvert_exporter": "python",
   "pygments_lexer": "ipython3",
   "version": "3.8.5"
  },
  "toc": {
   "base_numbering": 1,
   "nav_menu": {},
   "number_sections": true,
   "sideBar": true,
   "skip_h1_title": false,
   "title_cell": "Table of Contents",
   "title_sidebar": "Contents",
   "toc_cell": false,
   "toc_position": {},
   "toc_section_display": true,
   "toc_window_display": false
  },
  "varInspector": {
   "cols": {
    "lenName": 16,
    "lenType": 16,
    "lenVar": 40
   },
   "kernels_config": {
    "python": {
     "delete_cmd_postfix": "",
     "delete_cmd_prefix": "del ",
     "library": "var_list.py",
     "varRefreshCmd": "print(var_dic_list())"
    },
    "r": {
     "delete_cmd_postfix": ") ",
     "delete_cmd_prefix": "rm(",
     "library": "var_list.r",
     "varRefreshCmd": "cat(var_dic_list()) "
    }
   },
   "types_to_exclude": [
    "module",
    "function",
    "builtin_function_or_method",
    "instance",
    "_Feature"
   ],
   "window_display": false
  }
 },
 "nbformat": 4,
 "nbformat_minor": 4
}
